{
 "cells": [
  {
   "cell_type": "code",
   "execution_count": 1,
   "id": "9ca77536",
   "metadata": {},
   "outputs": [],
   "source": [
    "import os\n",
    "import nltk\n",
    "from nltk.corpus import reuters"
   ]
  },
  {
   "cell_type": "code",
   "execution_count": 2,
   "id": "4e9a0e24",
   "metadata": {},
   "outputs": [
    {
     "name": "stderr",
     "output_type": "stream",
     "text": [
      "[nltk_data] Downloading package reuters to\n",
      "[nltk_data]     C:\\Users\\mshos\\AppData\\Roaming\\nltk_data...\n"
     ]
    },
    {
     "data": {
      "text/plain": [
       "True"
      ]
     },
     "execution_count": 2,
     "metadata": {},
     "output_type": "execute_result"
    }
   ],
   "source": [
    "# Ensure that the NLTK Reuters corpus is downloaded\n",
    "nltk.download('reuters')"
   ]
  },
  {
   "cell_type": "code",
   "execution_count": 3,
   "id": "c419deeb",
   "metadata": {},
   "outputs": [],
   "source": [
    "# Create a directory to store the text files\n",
    "os.makedirs('data', exist_ok=True)"
   ]
  },
  {
   "cell_type": "code",
   "execution_count": 5,
   "id": "c4b9573a",
   "metadata": {},
   "outputs": [],
   "source": [
    "# Iterate through the fileids in the Reuters corpus\n",
    "for fileid in reuters.fileids():\n",
    "    # Retrieve the text of the news article\n",
    "    article_text = ' '.join(reuters.words(fileid))\n",
    "\n",
    "    # Construct the filename (you can also use \n",
    "    # the categories in the filename if needed)\n",
    "    filename = f'data/{fileid.replace(\"/\", \"_\")}.txt'\n",
    "    \n",
    "    # Write the article text to a file\n",
    "    with open(filename, 'w', encoding='utf-8') as file:\n",
    "        file.write(article_text)"
   ]
  },
  {
   "cell_type": "code",
   "execution_count": 7,
   "id": "0960b125",
   "metadata": {},
   "outputs": [
    {
     "name": "stdout",
     "output_type": "stream",
     "text": [
      "If everything went file, Reuters articles are saved as text files.\n"
     ]
    }
   ],
   "source": [
    "print(\"If everything went file, Reuters articles are saved as text files.\")"
   ]
  },
  {
   "cell_type": "code",
   "execution_count": null,
   "id": "dfb098ce",
   "metadata": {},
   "outputs": [],
   "source": []
  }
 ],
 "metadata": {
  "kernelspec": {
   "display_name": "Python 3 (ipykernel)",
   "language": "python",
   "name": "python3"
  },
  "language_info": {
   "codemirror_mode": {
    "name": "ipython",
    "version": 3
   },
   "file_extension": ".py",
   "mimetype": "text/x-python",
   "name": "python",
   "nbconvert_exporter": "python",
   "pygments_lexer": "ipython3",
   "version": "3.11.4"
  }
 },
 "nbformat": 4,
 "nbformat_minor": 5
}
